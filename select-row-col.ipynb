{
 "cells": [
  {
   "cell_type": "code",
   "execution_count": 2,
   "id": "13808ea6",
   "metadata": {},
   "outputs": [],
   "source": [
    "import numpy as np\n",
    "import pandas as pd"
   ]
  },
  {
   "cell_type": "code",
   "execution_count": null,
   "id": "d8e803d2",
   "metadata": {},
   "outputs": [],
   "source": [
    "URL=\"https://raw.githubusercontent.com/coderanandmaurya/PANDAS/main/matches.csv\"\n",
    "matches=pd.read_csv(URL)"
   ]
  },
  {
   "cell_type": "code",
   "execution_count": null,
   "id": "29137f5d",
   "metadata": {},
   "outputs": [],
   "source": [
    "matches.head(2)"
   ]
  },
  {
   "cell_type": "code",
   "execution_count": null,
   "id": "5408e993",
   "metadata": {},
   "outputs": [],
   "source": [
    "type(matches.head(2))"
   ]
  },
  {
   "cell_type": "code",
   "execution_count": null,
   "id": "39a46390",
   "metadata": {},
   "outputs": [],
   "source": [
    "matches[\"winner\"]"
   ]
  },
  {
   "cell_type": "code",
   "execution_count": null,
   "id": "d771de79",
   "metadata": {},
   "outputs": [],
   "source": [
    "type(matches[\"winner\"])"
   ]
  },
  {
   "cell_type": "code",
   "execution_count": null,
   "id": "c797ecb9",
   "metadata": {},
   "outputs": [],
   "source": [
    "matches[\"winner\"].shape"
   ]
  },
  {
   "cell_type": "code",
   "execution_count": null,
   "id": "3a54bb91",
   "metadata": {},
   "outputs": [],
   "source": [
    "matches[[\"winner\",\"team1\",\"team2\"]]"
   ]
  },
  {
   "cell_type": "code",
   "execution_count": null,
   "id": "973fc04e",
   "metadata": {},
   "outputs": [],
   "source": [
    "matches[[\"winner\",\"team1\",\"team2\"]].shape"
   ]
  },
  {
   "cell_type": "code",
   "execution_count": null,
   "id": "2375d3f6",
   "metadata": {},
   "outputs": [],
   "source": [
    "matches.iloc[1:11:2]"
   ]
  },
  {
   "cell_type": "code",
   "execution_count": null,
   "id": "bdf839d4",
   "metadata": {},
   "outputs": [],
   "source": [
    "matches.iloc[:,[1,2,3]]"
   ]
  },
  {
   "cell_type": "code",
   "execution_count": null,
   "id": "b23685aa",
   "metadata": {},
   "outputs": [],
   "source": []
  }
 ],
 "metadata": {
  "kernelspec": {
   "display_name": "Python 3 (ipykernel)",
   "language": "python",
   "name": "python3"
  },
  "language_info": {
   "codemirror_mode": {
    "name": "ipython",
    "version": 3
   },
   "file_extension": ".py",
   "mimetype": "text/x-python",
   "name": "python",
   "nbconvert_exporter": "python",
   "pygments_lexer": "ipython3",
   "version": "3.9.7"
  }
 },
 "nbformat": 4,
 "nbformat_minor": 5
}
